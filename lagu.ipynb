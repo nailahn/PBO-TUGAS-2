{
  "nbformat": 4,
  "nbformat_minor": 0,
  "metadata": {
    "colab": {
      "provenance": [],
      "authorship_tag": "ABX9TyMJDQ2yjNWqpq7D0AXAKgpt",
      "include_colab_link": true
    },
    "kernelspec": {
      "name": "python3",
      "display_name": "Python 3"
    },
    "language_info": {
      "name": "python"
    }
  },
  "cells": [
    {
      "cell_type": "markdown",
      "metadata": {
        "id": "view-in-github",
        "colab_type": "text"
      },
      "source": [
        "<a href=\"https://colab.research.google.com/github/nailahn/PBO-TUGAS-2/blob/main/lagu.ipynb\" target=\"_parent\"><img src=\"https://colab.research.google.com/assets/colab-badge.svg\" alt=\"Open In Colab\"/></a>"
      ]
    },
    {
      "cell_type": "code",
      "execution_count": null,
      "metadata": {
        "id": "ZlEhgw6SGUTZ"
      },
      "outputs": [],
      "source": [
        "# mendefinisikan kelas lagu\n",
        "class Lagu:\n",
        "    def __init__(self):\n",
        "        self.judul = \"\"\n",
        "        self.penyanyi = \"\"\n",
        "        self.genre = \"\"\n",
        "def main():\n",
        "    # membuat objek dari kelas lagu\n",
        "    lagu1 = Lagu()\n",
        "\n",
        "    # mengisi nilai ke dalam atribut - atribut lagu1\n",
        "    lagu1.judul = \"Dance With Me\"\n",
        "    lagu1.penyanyi = \"Beabadoobee\"\n",
        "    lagu1.genre = \"Indie Pop\"\n",
        "\n",
        "    print(f\"\"\"\n",
        "        Judul Lagu : {lagu1.judul}\n",
        "        Penyanyi   : {lagu1.penyanyi}\n",
        "        Genre      : {lagu1.genre}\n",
        "    \"\"\")\n",
        "\n",
        "if __name__ == '__main__':\n",
        "    main()"
      ]
    }
  ]
}