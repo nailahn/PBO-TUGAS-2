{
  "nbformat": 4,
  "nbformat_minor": 0,
  "metadata": {
    "colab": {
      "provenance": [],
      "authorship_tag": "ABX9TyNzvomtP5Pil7hEKQMfMq42",
      "include_colab_link": true
    },
    "kernelspec": {
      "name": "python3",
      "display_name": "Python 3"
    },
    "language_info": {
      "name": "python"
    }
  },
  "cells": [
    {
      "cell_type": "markdown",
      "metadata": {
        "id": "view-in-github",
        "colab_type": "text"
      },
      "source": [
        "<a href=\"https://colab.research.google.com/github/nailahn/PBO-TUGAS-2/blob/main/dessert.ipynb\" target=\"_parent\"><img src=\"https://colab.research.google.com/assets/colab-badge.svg\" alt=\"Open In Colab\"/></a>"
      ]
    },
    {
      "cell_type": "code",
      "execution_count": 2,
      "metadata": {
        "colab": {
          "base_uri": "https://localhost:8080/"
        },
        "id": "ZlEhgw6SGUTZ",
        "outputId": "4f6251eb-3b54-43c0-ce83-a83cbab3c748"
      },
      "outputs": [
        {
          "output_type": "stream",
          "name": "stdout",
          "text": [
            "\n",
            "        Nama desert : Tiramisu\n",
            "        Rasa        : Manis\n",
            "        Bentuk      : Layer cake\n",
            "    \n"
          ]
        }
      ],
      "source": [
        "# mendefinisikan kelas dessert\n",
        "class Dessert:\n",
        "    def __init__(self):\n",
        "        self.nama = \"\"\n",
        "        self.rasa = \"\"\n",
        "        self.bentuk = \"\"\n",
        "\n",
        "def main():\n",
        "    # membuat objek dari kelas dessert\n",
        "    dessert1 = Dessert()\n",
        "\n",
        "    # mengisi nilai ke dalam atribut - atribut dessert1\n",
        "    dessert1.nama = \"Tiramisu\"\n",
        "    dessert1.rasa = \"Manis\"\n",
        "    dessert1.bentuk = \"Layer cake\"\n",
        "\n",
        "    print(f\"\"\"\n",
        "        Nama desert : {dessert1.nama}\n",
        "        Rasa        : {dessert1.rasa}\n",
        "        Bentuk      : {dessert1.bentuk}\n",
        "    \"\"\")\n",
        "\n",
        "if __name__ == '__main__':\n",
        "    main()"
      ]
    }
  ]
}