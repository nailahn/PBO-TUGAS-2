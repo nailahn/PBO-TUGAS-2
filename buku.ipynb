{
  "nbformat": 4,
  "nbformat_minor": 0,
  "metadata": {
    "colab": {
      "provenance": [],
      "authorship_tag": "ABX9TyMpcHE1MCRZbndQnmPt18ep",
      "include_colab_link": true
    },
    "kernelspec": {
      "name": "python3",
      "display_name": "Python 3"
    },
    "language_info": {
      "name": "python"
    }
  },
  "cells": [
    {
      "cell_type": "markdown",
      "metadata": {
        "id": "view-in-github",
        "colab_type": "text"
      },
      "source": [
        "<a href=\"https://colab.research.google.com/github/nailahn/PBO-TUGAS-2/blob/main/buku.ipynb\" target=\"_parent\"><img src=\"https://colab.research.google.com/assets/colab-badge.svg\" alt=\"Open In Colab\"/></a>"
      ]
    },
    {
      "cell_type": "code",
      "execution_count": null,
      "metadata": {
        "id": "Jwq6dAQCFU6q"
      },
      "outputs": [],
      "source": [
        "# mendefinisikan kelas buku\n",
        "class Buku:\n",
        "    def __init__(self):\n",
        "        self.judul = \"\"\n",
        "        self.penulis = \"\"\n",
        "        self.genre = \"\"\n",
        "\n",
        "def main():\n",
        "    # membuat objek dari kelas buku\n",
        "    buku1 = Buku()\n",
        "\n",
        "    # mengisi nilai ke dalam atribut - atribut buku1\n",
        "    buku1.judul = \"Bumi\"\n",
        "    buku1.penulis = \"Tere Liye\"\n",
        "    buku1.genre = \"Fantasi\"\n",
        "\n",
        "    print(f\"\"\"\n",
        "        Judul Buku : {buku1.judul}\n",
        "        Penulis    : {buku1.penulis}\n",
        "        Genre      : {buku1.genre}\n",
        "    \"\"\")\n",
        "\n",
        "if __name__ == '__main__':\n",
        "    main()"
      ]
    }
  ]
}