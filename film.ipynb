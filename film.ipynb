{
  "nbformat": 4,
  "nbformat_minor": 0,
  "metadata": {
    "colab": {
      "provenance": [],
      "authorship_tag": "ABX9TyOHTkE47CozJzcfYWIRzNBg",
      "include_colab_link": true
    },
    "kernelspec": {
      "name": "python3",
      "display_name": "Python 3"
    },
    "language_info": {
      "name": "python"
    }
  },
  "cells": [
    {
      "cell_type": "markdown",
      "metadata": {
        "id": "view-in-github",
        "colab_type": "text"
      },
      "source": [
        "<a href=\"https://colab.research.google.com/github/nailahn/PBO-TUGAS-2/blob/main/film.ipynb\" target=\"_parent\"><img src=\"https://colab.research.google.com/assets/colab-badge.svg\" alt=\"Open In Colab\"/></a>"
      ]
    },
    {
      "cell_type": "code",
      "execution_count": null,
      "metadata": {
        "id": "ZlEhgw6SGUTZ"
      },
      "outputs": [],
      "source": [
        "# mendefinisikan kelas film\n",
        "class Film:\n",
        "    def __init__(self):\n",
        "        self.judul = \"\"\n",
        "        self.sutradara = \"\"\n",
        "        self.genre = \"\"\n",
        "\n",
        "def main():\n",
        "    # membuat objek dari kelas film\n",
        "    film1 = Film()\n",
        "\n",
        "    # mengisi nilai ke dalam atribut - atribut film1\n",
        "    film1.judul = \"Before Sunrise\"\n",
        "    film1.sutradara = \"Richard Linklater\"\n",
        "    film1.genre = \"Romance\"\n",
        "\n",
        "    print(f\"\"\"\n",
        "        Judul Film : {film1.judul}\n",
        "        Sutradara  : {film1.sutradara}\n",
        "        Genre      : {film1.genre}\n",
        "    \"\"\")\n",
        "\n",
        "if __name__ == '__main__':\n",
        "    main()"
      ]
    }
  ]
}