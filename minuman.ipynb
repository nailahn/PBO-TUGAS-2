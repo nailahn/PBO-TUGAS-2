{
  "nbformat": 4,
  "nbformat_minor": 0,
  "metadata": {
    "colab": {
      "provenance": [],
      "authorship_tag": "ABX9TyO71FJlsqWRL47OplBVGkZ9",
      "include_colab_link": true
    },
    "kernelspec": {
      "name": "python3",
      "display_name": "Python 3"
    },
    "language_info": {
      "name": "python"
    }
  },
  "cells": [
    {
      "cell_type": "markdown",
      "metadata": {
        "id": "view-in-github",
        "colab_type": "text"
      },
      "source": [
        "<a href=\"https://colab.research.google.com/github/nailahn/PBO-TUGAS-2/blob/main/minuman.ipynb\" target=\"_parent\"><img src=\"https://colab.research.google.com/assets/colab-badge.svg\" alt=\"Open In Colab\"/></a>"
      ]
    },
    {
      "cell_type": "code",
      "execution_count": 1,
      "metadata": {
        "colab": {
          "base_uri": "https://localhost:8080/"
        },
        "id": "ZlEhgw6SGUTZ",
        "outputId": "4d5d8e6d-cf4a-4bf1-8db0-d9c683603827"
      },
      "outputs": [
        {
          "output_type": "stream",
          "name": "stdout",
          "text": [
            "\n",
            "        Nama minuman : Matcha Latte\n",
            "        Rasa         : Manis dan pahit\n",
            "        Suhu         : Dingin\n",
            "    \n"
          ]
        }
      ],
      "source": [
        "# mendefinisikan kelas minuman\n",
        "class Minuman:\n",
        "    def __init__(self):\n",
        "        self.nama = \"\"\n",
        "        self.rasa = \"\"\n",
        "        self.suhu = \"\"\n",
        "def main():\n",
        "    # membuat objek dari kelas minuman\n",
        "    minuman1 = Minuman()\n",
        "\n",
        "    # mengisi nilai ke dalam atribut - atribut minuman1\n",
        "    minuman1.nama = \"Matcha Latte\"\n",
        "    minuman1.rasa = \"Manis dan pahit\"\n",
        "    minuman1.suhu = \"Dingin\"\n",
        "\n",
        "    print(f\"\"\"\n",
        "        Nama minuman : {minuman1.nama}\n",
        "        Rasa         : {minuman1.rasa}\n",
        "        Suhu         : {minuman1.suhu}\n",
        "    \"\"\")\n",
        "\n",
        "if __name__ == '__main__':\n",
        "    main()"
      ]
    }
  ]
}